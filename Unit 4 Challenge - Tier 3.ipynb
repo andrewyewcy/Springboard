{
 "cells": [
  {
   "cell_type": "markdown",
   "metadata": {
    "colab_type": "text",
    "id": "Tia3MP1SJpgj"
   },
   "source": [
    "# Springboard Data Science Career Track Unit 4 Challenge - Tier 3 Complete\n",
    "\n",
    "## Objectives\n",
    "Hey! Great job getting through those challenging DataCamp courses. You're learning a lot in a short span of time. \n",
    "\n",
    "In this notebook, you're going to apply the skills you've been learning, bridging the gap between the controlled environment of DataCamp and the *slightly* messier work that data scientists do with actual datasets!\n",
    "\n",
    "Here’s the mystery we’re going to solve: ***which boroughs of London have seen the greatest increase in housing prices, on average, over the last two decades?***\n",
    "\n",
    "\n",
    "A borough is just a fancy word for district. You may be familiar with the five boroughs of New York… well, there are 32 boroughs within Greater London [(here's some info for the curious)](https://en.wikipedia.org/wiki/London_boroughs). Some of them are more desirable areas to live in, and the data will reflect that with a greater rise in housing prices.\n",
    "\n",
    "***This is the Tier 3 notebook, which means it's not filled in at all: we'll just give you the skeleton of a project, the brief and the data. It's up to you to play around with it and see what you can find out! Good luck! If you struggle, feel free to look at easier tiers for help; but try to dip in and out of them, as the more independent work you do, the better it is for your learning!***\n",
    "\n",
    "This challenge will make use of only what you learned in the following DataCamp courses: \n",
    "- Prework courses (Introduction to Python for Data Science, Intermediate Python for Data Science)\n",
    "- Data Types for Data Science\n",
    "- Python Data Science Toolbox (Part One) \n",
    "- pandas Foundations\n",
    "- Manipulating DataFrames with pandas\n",
    "- Merging DataFrames with pandas\n",
    "\n",
    "Of the tools, techniques and concepts in the above DataCamp courses, this challenge should require the application of the following: \n",
    "- **pandas**\n",
    "    - **data ingestion and inspection** (pandas Foundations, Module One) \n",
    "    - **exploratory data analysis** (pandas Foundations, Module Two)\n",
    "    - **tidying and cleaning** (Manipulating DataFrames with pandas, Module Three) \n",
    "    - **transforming DataFrames** (Manipulating DataFrames with pandas, Module One)\n",
    "    - **subsetting DataFrames with lists** (Manipulating DataFrames with pandas, Module One) \n",
    "    - **filtering DataFrames** (Manipulating DataFrames with pandas, Module One) \n",
    "    - **grouping data** (Manipulating DataFrames with pandas, Module Four) \n",
    "    - **melting data** (Manipulating DataFrames with pandas, Module Three) \n",
    "    - **advanced indexing** (Manipulating DataFrames with pandas, Module Four) \n",
    "- **matplotlib** (Intermediate Python for Data Science, Module One)\n",
    "- **fundamental data types** (Data Types for Data Science, Module One) \n",
    "- **dictionaries** (Intermediate Python for Data Science, Module Two)\n",
    "- **handling dates and times** (Data Types for Data Science, Module Four)\n",
    "- **function definition** (Python Data Science Toolbox - Part One, Module One)\n",
    "- **default arguments, variable length, and scope** (Python Data Science Toolbox - Part One, Module Two) \n",
    "- **lambda functions and error handling** (Python Data Science Toolbox - Part One, Module Four) "
   ]
  },
  {
   "cell_type": "markdown",
   "metadata": {
    "colab_type": "text",
    "id": "Ipgd2nV8Jpgl"
   },
   "source": [
    "## The Data Science Pipeline\n",
    "\n",
    "This is Tier Three, so we'll get you started. But after that, it's all in your hands! When you feel done with your investigations, look back over what you've accomplished, and prepare a quick presentation of your findings for the next mentor meeting. \n",
    "\n",
    "Data Science is magical. In this case study, you'll get to apply some complex machine learning algorithms. But as  [David Spiegelhalter](https://www.youtube.com/watch?v=oUs1uvsz0Ok) reminds us, there is no substitute for simply **taking a really, really good look at the data.** Sometimes, this is all we need to answer our question.\n",
    "\n",
    "Data Science projects generally adhere to the four stages of Data Science Pipeline:\n",
    "1. Sourcing and loading \n",
    "2. Cleaning, transforming, and visualizing \n",
    "3. Modeling \n",
    "4. Evaluating and concluding \n"
   ]
  },
  {
   "cell_type": "markdown",
   "metadata": {
    "colab_type": "text",
    "id": "zswDqbefJpgm"
   },
   "source": [
    "### 1. Sourcing and Loading \n",
    "\n",
    "Any Data Science project kicks off by importing  ***pandas***. The documentation of this wonderful library can be found [here](https://pandas.pydata.org/). As you've seen, pandas is conveniently connected to the [Numpy](http://www.numpy.org/) and [Matplotlib](https://matplotlib.org/) libraries. \n",
    "\n",
    "***Hint:*** This part of the data science pipeline will test those skills you acquired in the pandas Foundations course, Module One. "
   ]
  },
  {
   "cell_type": "markdown",
   "metadata": {
    "colab_type": "text",
    "id": "aEau5nEvJpgm"
   },
   "source": [
    "#### 1.1. Importing Libraries"
   ]
  },
  {
   "cell_type": "code",
   "execution_count": 1,
   "metadata": {
    "colab": {},
    "colab_type": "code",
    "id": "7Bt_Q_oPJpgn"
   },
   "outputs": [],
   "source": [
    "# Let's import the pandas, numpy libraries as pd, and np respectively. \n",
    "import numpy as np\n",
    "import matplotlib.pyplot as plt\n",
    "import pandas as pd\n",
    "# Load the pyplot collection of functions from matplotlib, as plt \n"
   ]
  },
  {
   "cell_type": "markdown",
   "metadata": {
    "colab_type": "text",
    "id": "koUrawxsJpgq"
   },
   "source": [
    "#### 1.2.  Loading the data\n",
    "Your data comes from the [London Datastore](https://data.london.gov.uk/): a free, open-source data-sharing portal for London-oriented datasets. "
   ]
  },
  {
   "cell_type": "code",
   "execution_count": 2,
   "metadata": {
    "colab": {},
    "colab_type": "code",
    "id": "AiLiD4v3Jpgr"
   },
   "outputs": [],
   "source": [
    "# First, make a variable called url_LondonHousePrices, and assign it the following link, enclosed in quotation-marks as a string:\n",
    "# https://data.london.gov.uk/download/uk-house-price-index/70ac0766-8902-4eb5-aab5-01951aaed773/UK%20House%20price%20index.xls\n",
    "\n",
    "url_LondonHousePrices = \"https://data.london.gov.uk/download/uk-house-price-index/70ac0766-8902-4eb5-aab5-01951aaed773/UK%20House%20price%20index.xls\"\n",
    "\n",
    "# The dataset we're interested in contains the Average prices of the houses, and is actually on a particular sheet of the Excel file. \n",
    "# As a result, we need to specify the sheet name in the read_excel() method.\n",
    "# Put this data into a variable called properties.  \n",
    "\n",
    "\n",
    "properties = pd.read_excel(url_LondonHousePrices, sheet_name='Average price', index_col= None)\n"
   ]
  },
  {
   "cell_type": "markdown",
   "metadata": {
    "colab_type": "text",
    "id": "POukEJXgJpgu"
   },
   "source": [
    "### 2. Cleaning, transforming, and visualizing\n",
    "This second stage is arguably the most important part of any Data Science project. The first thing to do is take a proper look at the data. Cleaning forms the majority of this stage, and can be done both before or after Transformation.\n",
    "\n",
    "The end goal of data cleaning is to have tidy data. When data is tidy: \n",
    "\n",
    "1. Each variable has a column.\n",
    "2. Each observation forms a row.\n",
    "\n",
    "Keep the end goal in mind as you move through this process, every step will take you closer. \n",
    "\n",
    "\n",
    "\n",
    "***Hint:*** This part of the data science pipeline should test those skills you acquired in: \n",
    "- Intermediate Python for data science, all modules.\n",
    "- pandas Foundations, all modules. \n",
    "- Manipulating DataFrames with pandas, all modules.\n",
    "- Data Types for Data Science, Module Four.\n",
    "- Python Data Science Toolbox - Part One, all modules"
   ]
  },
  {
   "cell_type": "markdown",
   "metadata": {
    "colab_type": "text",
    "id": "Te0Q548tnzZa"
   },
   "source": [
    "**2.1. Exploring your data** \n",
    "\n",
    "Think about your pandas functions for checking out a dataframe. "
   ]
  },
  {
   "cell_type": "code",
   "execution_count": 3,
   "metadata": {
    "colab": {},
    "colab_type": "code",
    "id": "Rxirxw_qoAJa"
   },
   "outputs": [
    {
     "name": "stdout",
     "output_type": "stream",
     "text": [
      "  Unnamed: 0 City of London Barking & Dagenham       Barnet       Bexley  \\\n",
      "0        NaT      E09000001          E09000002    E09000003    E09000004   \n",
      "1 1995-01-01    91448.98487         50460.2266  93284.51832  64958.09036   \n",
      "2 1995-02-01    82202.77314        51085.77983  93190.16963  64787.92069   \n",
      "3 1995-03-01    79120.70256        51268.96956  92247.52435  64367.49344   \n",
      "4 1995-04-01    77101.20804        53133.50526  90762.87492  64277.66881   \n",
      "\n",
      "         Brent      Bromley       Camden      Croydon       Ealing  ...  \\\n",
      "0    E09000005    E09000006    E09000007    E09000008    E09000009  ...   \n",
      "1  71306.56698  81671.47692  120932.8881  69158.16225  79885.89069  ...   \n",
      "2  72022.26197  81657.55944  119508.8622  68951.09542  80897.06551  ...   \n",
      "3  72015.76274  81449.31143  120282.2131  68712.44341  81379.86288  ...   \n",
      "4  72965.63094  81124.41227   120097.899  68610.04641  82188.90498  ...   \n",
      "\n",
      "    NORTH WEST YORKS & THE HUMBER EAST MIDLANDS WEST MIDLANDS EAST OF ENGLAND  \\\n",
      "0    E12000002          E12000003     E12000004     E12000005       E12000006   \n",
      "1  43958.48001        44803.42878   45544.52227   48527.52339      56701.5961   \n",
      "2  43925.42289        44528.80721   46051.57066   49341.29029     56593.59475   \n",
      "3   44434.8681        45200.46775   45383.82395   49442.17973     56171.18278   \n",
      "4   44267.7796        45614.34341   46124.23045   49455.93299     56567.89582   \n",
      "\n",
      "        LONDON   SOUTH EAST   SOUTH WEST Unnamed: 47      England  \n",
      "0    E12000007    E12000008    E12000009         NaN    E92000001  \n",
      "1  74435.76052  64018.87894   54705.1579         NaN  53202.77128  \n",
      "2  72777.93709  63715.02399  54356.14843         NaN   53096.1549  \n",
      "3  73896.84204  64113.60858  53583.07667         NaN   53201.2843  \n",
      "4  74455.28754  64623.22395  54786.01938         NaN   53590.8548  \n",
      "\n",
      "[5 rows x 49 columns]\n",
      "    Unnamed: 0 City of London Barking & Dagenham       Barnet       Bexley  \\\n",
      "316 2021-04-01    741942.5522        313831.2545  530829.6739   362668.366   \n",
      "317 2021-05-01    735180.7726         312673.148   533047.739  362279.7488   \n",
      "318 2021-06-01    756917.4193        319377.6095  544260.2024  364125.0704   \n",
      "319 2021-07-01              -        327925.9228   536408.783  366331.8295   \n",
      "320 2021-08-01              -        334219.3443  552793.0944  372338.2445   \n",
      "\n",
      "           Brent      Bromley       Camden      Croydon       Ealing  ...  \\\n",
      "316  504846.3351  462485.4694  817636.7896  391734.4414  502934.5977  ...   \n",
      "317   511237.093   468975.819  819321.8052  391733.8135  499107.1704  ...   \n",
      "318  516787.4064  475568.4698  830632.0454  391046.0286  497487.0302  ...   \n",
      "319  522216.2429  466101.4256  869929.0931  389124.4494  510107.2513  ...   \n",
      "320  516259.6453  464888.8829  949175.1735  390599.1175  516709.2414  ...   \n",
      "\n",
      "      NORTH WEST YORKS & THE HUMBER EAST MIDLANDS WEST MIDLANDS  \\\n",
      "316  185494.5287        180397.5499   213560.5393   217709.5137   \n",
      "317  186080.5712        182290.5145   214468.7738   218221.4854   \n",
      "318  198749.7323        194151.2793   223887.2804   230571.9874   \n",
      "319  186387.6585        183152.1733   215952.8875   222237.6561   \n",
      "320  194821.0813         185968.454   221693.2043   228592.9283   \n",
      "\n",
      "    EAST OF ENGLAND       LONDON   SOUTH EAST   SOUTH WEST Unnamed: 47  \\\n",
      "316     311106.7842  498410.0719   345330.948  280112.1673         NaN   \n",
      "317     311621.6112  492260.1259  346506.6973  279657.3684         NaN   \n",
      "318     323939.0678  506592.2808   359686.826  294576.5093         NaN   \n",
      "319     315503.3287  498083.3521  351413.8856  277121.6382         NaN   \n",
      "320     324509.9971   525893.186  358069.7588  288658.3164         NaN   \n",
      "\n",
      "         England  \n",
      "316  269451.8824  \n",
      "317  269790.9629  \n",
      "318  283044.9011  \n",
      "319  272261.2548  \n",
      "320  280920.8811  \n",
      "\n",
      "[5 rows x 49 columns]\n",
      "Index(['Unnamed: 0', 'City of London', 'Barking & Dagenham', 'Barnet',\n",
      "       'Bexley', 'Brent', 'Bromley', 'Camden', 'Croydon', 'Ealing', 'Enfield',\n",
      "       'Greenwich', 'Hackney', 'Hammersmith & Fulham', 'Haringey', 'Harrow',\n",
      "       'Havering', 'Hillingdon', 'Hounslow', 'Islington',\n",
      "       'Kensington & Chelsea', 'Kingston upon Thames', 'Lambeth', 'Lewisham',\n",
      "       'Merton', 'Newham', 'Redbridge', 'Richmond upon Thames', 'Southwark',\n",
      "       'Sutton', 'Tower Hamlets', 'Waltham Forest', 'Wandsworth',\n",
      "       'Westminster', 'Unnamed: 34', 'Inner London', 'Outer London',\n",
      "       'Unnamed: 37', 'NORTH EAST', 'NORTH WEST', 'YORKS & THE HUMBER',\n",
      "       'EAST MIDLANDS', 'WEST MIDLANDS', 'EAST OF ENGLAND', 'LONDON',\n",
      "       'SOUTH EAST', 'SOUTH WEST', 'Unnamed: 47', 'England'],\n",
      "      dtype='object')\n",
      "<class 'pandas.core.frame.DataFrame'>\n",
      "RangeIndex: 321 entries, 0 to 320\n",
      "Data columns (total 49 columns):\n",
      " #   Column                Non-Null Count  Dtype         \n",
      "---  ------                --------------  -----         \n",
      " 0   Unnamed: 0            320 non-null    datetime64[ns]\n",
      " 1   City of London        321 non-null    object        \n",
      " 2   Barking & Dagenham    321 non-null    object        \n",
      " 3   Barnet                321 non-null    object        \n",
      " 4   Bexley                321 non-null    object        \n",
      " 5   Brent                 321 non-null    object        \n",
      " 6   Bromley               321 non-null    object        \n",
      " 7   Camden                321 non-null    object        \n",
      " 8   Croydon               321 non-null    object        \n",
      " 9   Ealing                321 non-null    object        \n",
      " 10  Enfield               321 non-null    object        \n",
      " 11  Greenwich             321 non-null    object        \n",
      " 12  Hackney               321 non-null    object        \n",
      " 13  Hammersmith & Fulham  321 non-null    object        \n",
      " 14  Haringey              321 non-null    object        \n",
      " 15  Harrow                321 non-null    object        \n",
      " 16  Havering              321 non-null    object        \n",
      " 17  Hillingdon            321 non-null    object        \n",
      " 18  Hounslow              321 non-null    object        \n",
      " 19  Islington             321 non-null    object        \n",
      " 20  Kensington & Chelsea  321 non-null    object        \n",
      " 21  Kingston upon Thames  321 non-null    object        \n",
      " 22  Lambeth               321 non-null    object        \n",
      " 23  Lewisham              321 non-null    object        \n",
      " 24  Merton                321 non-null    object        \n",
      " 25  Newham                321 non-null    object        \n",
      " 26  Redbridge             321 non-null    object        \n",
      " 27  Richmond upon Thames  321 non-null    object        \n",
      " 28  Southwark             321 non-null    object        \n",
      " 29  Sutton                321 non-null    object        \n",
      " 30  Tower Hamlets         321 non-null    object        \n",
      " 31  Waltham Forest        321 non-null    object        \n",
      " 32  Wandsworth            321 non-null    object        \n",
      " 33  Westminster           321 non-null    object        \n",
      " 34  Unnamed: 34           0 non-null      float64       \n",
      " 35  Inner London          321 non-null    object        \n",
      " 36  Outer London          321 non-null    object        \n",
      " 37  Unnamed: 37           0 non-null      float64       \n",
      " 38  NORTH EAST            321 non-null    object        \n",
      " 39  NORTH WEST            321 non-null    object        \n",
      " 40  YORKS & THE HUMBER    321 non-null    object        \n",
      " 41  EAST MIDLANDS         321 non-null    object        \n",
      " 42  WEST MIDLANDS         321 non-null    object        \n",
      " 43  EAST OF ENGLAND       321 non-null    object        \n",
      " 44  LONDON                321 non-null    object        \n",
      " 45  SOUTH EAST            321 non-null    object        \n",
      " 46  SOUTH WEST            321 non-null    object        \n",
      " 47  Unnamed: 47           0 non-null      float64       \n",
      " 48  England               321 non-null    object        \n",
      "dtypes: datetime64[ns](1), float64(3), object(45)\n",
      "memory usage: 123.0+ KB\n",
      "None\n",
      "(321, 49)\n"
     ]
    }
   ],
   "source": [
    "print(properties.head(5))\n",
    "print(properties.tail(5))\n",
    "print(properties.columns)\n",
    "print(properties.info())\n",
    "print(properties.shape)"
   ]
  },
  {
   "cell_type": "markdown",
   "metadata": {
    "colab_type": "text",
    "id": "tE9Sqt9-oAta"
   },
   "source": [
    "**2.2. Cleaning the data**\n",
    "\n",
    "You might find you need to transpose your dataframe, check out what its row indexes are, and reset the index. You  also might find you need to assign the values of the first row to your column headings  . (Hint: recall the .columns feature of DataFrames, as well as the iloc[] method).\n",
    "\n",
    "Don't be afraid to use StackOverflow for help  with this."
   ]
  },
  {
   "cell_type": "code",
   "execution_count": 4,
   "metadata": {
    "colab": {},
    "colab_type": "code",
    "id": "cdAu1A3YoH_r"
   },
   "outputs": [
    {
     "name": "stdout",
     "output_type": "stream",
     "text": [
      "(321, 33)\n",
      "  Unnamed: 0      borough    avg_price\n",
      "0        NaT  Westminster    E09000033\n",
      "1 1995-01-01  Westminster  133025.2772\n",
      "2 1995-02-01  Westminster  131468.3096\n",
      "3 1995-03-01  Westminster  132260.3417\n",
      "4 1995-04-01  Westminster  133370.2036\n",
      "(10272, 3)\n"
     ]
    }
   ],
   "source": [
    "#Removed all columns aside from \"unnamed 0\" and the 32 boroughs of London, excluding the City of London, saving filtered dataframe as \"prop_filter\".\n",
    "#List of Borough's is gathered from wikipedia https://en.wikipedia.org/wiki/London_boroughs, accessed 2021-11-10\n",
    "prop_filter = properties.filter(['Unnamed: 0', 'Westminster', 'Kensington & Chelsea', 'Hammersmith & Fulham', 'Wandsworth', 'Lambeth', 'Southwark', 'Tower Hamlets', 'Hackney', 'Islington', 'Camden', 'Brent', 'Ealing', 'Hounslow', 'Richmond upon Thames', 'Kingston upon Thames', 'Merton', 'Sutton', 'Croydon', 'Bromley', 'Lewisham', 'Greenwich', 'Bexley', 'Havering', 'Barking & Dagenham', 'Redbridge', 'Newham', 'Waltham Forest', 'Haringey', 'Enfield', 'Barnet', 'Harrow', 'Hillingdon'])\n",
    "\n",
    "# Check to see if only 32 columns remain\n",
    "print(prop_filter.shape)\n",
    "\n",
    "#removed the first row of data which contains someform of code representing each district\n",
    "\n",
    "#prop_melt refers to the transposed dataframe prop_filter\n",
    "prop_melt = pd.melt(prop_filter, id_vars = [\"Unnamed: 0\"], var_name = \"borough\", value_name = \"avg_price\", ignore_index = True)\n",
    "\n",
    "# Check results\n",
    "print(prop_melt.head(5))\n",
    "print(prop_melt.shape)"
   ]
  },
  {
   "cell_type": "markdown",
   "metadata": {
    "colab_type": "text",
    "id": "o1uLbJAsoIjK"
   },
   "source": [
    "**2.3. Cleaning the data (part 2)**\n",
    "\n",
    "You might we have to **rename** a couple columns. How do you do this? The clue's pretty bold..."
   ]
  },
  {
   "cell_type": "code",
   "execution_count": 5,
   "metadata": {
    "colab": {},
    "colab_type": "code",
    "id": "GKkmn1AnoVZS"
   },
   "outputs": [
    {
     "name": "stdout",
     "output_type": "stream",
     "text": [
      "        date      borough    avg_price\n",
      "0        NaT  Westminster    E09000033\n",
      "1 1995-01-01  Westminster  133025.2772\n",
      "2 1995-02-01  Westminster  131468.3096\n",
      "3 1995-03-01  Westminster  132260.3417\n",
      "4 1995-04-01  Westminster  133370.2036\n",
      "(10272, 3)\n"
     ]
    }
   ],
   "source": [
    "# renaming Unnamed: 0 to date\n",
    "prop_melt = prop_melt.rename(columns = {'Unnamed: 0' : 'date'})\n",
    "print(prop_melt.head(5))\n",
    "print(prop_melt.shape)"
   ]
  },
  {
   "cell_type": "markdown",
   "metadata": {
    "colab_type": "text",
    "id": "jy8BzXHmoWEw"
   },
   "source": [
    "**2.4.Transforming the data**\n",
    "\n",
    "Remember what Wes McKinney said about tidy data? \n",
    "\n",
    "You might need to **melt** your DataFrame here. "
   ]
  },
  {
   "cell_type": "code",
   "execution_count": 6,
   "metadata": {
    "colab": {},
    "colab_type": "code",
    "id": "S2wM0qLuo2Zt"
   },
   "outputs": [],
   "source": [
    "# melting and transposing done in step 2.2"
   ]
  },
  {
   "cell_type": "markdown",
   "metadata": {
    "colab_type": "text",
    "id": "7kIsgAo7o3mf"
   },
   "source": [
    "Remember to make sure your column data types are all correct. Average prices, for example, should be floating point numbers... "
   ]
  },
  {
   "cell_type": "code",
   "execution_count": 7,
   "metadata": {
    "colab": {},
    "colab_type": "code",
    "id": "ZcR4IHbcpOaq"
   },
   "outputs": [
    {
     "name": "stdout",
     "output_type": "stream",
     "text": [
      "<class 'pandas.core.frame.DataFrame'>\n",
      "RangeIndex: 10272 entries, 0 to 10271\n",
      "Data columns (total 3 columns):\n",
      " #   Column     Non-Null Count  Dtype         \n",
      "---  ------     --------------  -----         \n",
      " 0   date       10240 non-null  datetime64[ns]\n",
      " 1   borough    10272 non-null  object        \n",
      " 2   avg_price  10272 non-null  object        \n",
      "dtypes: datetime64[ns](1), object(2)\n",
      "memory usage: 240.9+ KB\n",
      "None\n",
      "<class 'pandas.core.frame.DataFrame'>\n",
      "Int64Index: 7712 entries, 80 to 10271\n",
      "Data columns (total 3 columns):\n",
      " #   Column     Non-Null Count  Dtype         \n",
      "---  ------     --------------  -----         \n",
      " 0   date       7712 non-null   datetime64[ns]\n",
      " 1   borough    7712 non-null   object        \n",
      " 2   avg_price  7712 non-null   float64       \n",
      "dtypes: datetime64[ns](1), float64(1), object(1)\n",
      "memory usage: 241.0+ KB\n",
      "None\n"
     ]
    }
   ],
   "source": [
    "print(prop_melt.info())\n",
    "\n",
    "# define columns to not change type, then change types of all other columns, finally remove all rows with NaN\n",
    "col_to_change_type = prop_melt.columns.drop([\"date\", \"borough\"])\n",
    "prop_melt[col_to_change_type] = prop_melt[col_to_change_type].apply(pd.to_numeric, errors ='coerce')\n",
    "prop_drop2 = prop_melt.dropna()\n",
    "prop_clean = prop_drop2[prop_drop2['date'] >= '2001-08-01']\n",
    "\n",
    "print(prop_clean.info())"
   ]
  },
  {
   "cell_type": "markdown",
   "metadata": {
    "colab_type": "text",
    "id": "knLUXHLypOtw"
   },
   "source": [
    "**2.5. Cleaning the data (part 3)**\n",
    "\n",
    "Do we have an equal number of observations in the ID, Average Price, Month, and London Borough columns? Remember that there are only 32 London Boroughs. How many entries do you have in that column? \n",
    "\n",
    "Check out the contents of the London Borough column, and if you find null values, get rid of them however you see fit. "
   ]
  },
  {
   "cell_type": "code",
   "execution_count": 8,
   "metadata": {
    "colab": {},
    "colab_type": "code",
    "id": "BnvTW5a3p0fC"
   },
   "outputs": [],
   "source": [
    "# Yes, 32 boroughs each having 320 dates with avg prices leads to 10,240 rows of data as seen in step 2.4"
   ]
  },
  {
   "cell_type": "markdown",
   "metadata": {
    "colab_type": "text",
    "id": "PGEx6mJsp6dG"
   },
   "source": [
    "**2.6. Visualizing the data**\n",
    "\n",
    "To visualize the data, why not subset on a particular London Borough? Maybe do a line plot of Month against Average Price?"
   ]
  },
  {
   "cell_type": "code",
   "execution_count": 9,
   "metadata": {
    "colab": {},
    "colab_type": "code",
    "id": "nAg5pT9cqHAR"
   },
   "outputs": [
    {
     "data": {
      "image/png": "[encoded data removed]",
      "text/plain": [
       "<Figure size 432x288 with 1 Axes>"
      ]
     },
     "metadata": {
      "needs_background": "light"
     },
     "output_type": "display_data"
    }
   ],
   "source": [
    "# selecting the borough of Westminster\n",
    "\n",
    "Westminster_plot = prop_clean[prop_clean['borough'] == 'Westminster'].plot(x = 'date',y = \"avg_price\", xlabel = \"Year\", ylabel = \"Average Price (M'GBP)\", title = \"Westminster borough: Average Housing Prices vs Year\", legend = False)\n",
    "plt.show()"
   ]
  },
  {
   "cell_type": "markdown",
   "metadata": {
    "colab_type": "text",
    "id": "aWTPqSJeqHnC"
   },
   "source": [
    "To limit the number of data points you have, you might want to extract the year from every month value your *Month* column. \n",
    "\n",
    "To this end, you *could* apply a ***lambda function***. Your logic could work as follows:\n",
    "1. look through the `Month` column\n",
    "2. extract the year from each individual value in that column \n",
    "3. store that corresponding year as separate column. \n",
    "\n",
    "Whether you go ahead with this is up to you. Just so long as you answer our initial brief: which boroughs of London have seen the greatest house price increase, on average, over the past two decades? "
   ]
  },
  {
   "cell_type": "code",
   "execution_count": 10,
   "metadata": {
    "colab": {},
    "colab_type": "code",
    "id": "e0DF92cyqnu8"
   },
   "outputs": [
    {
     "data": {
      "image/png": "[encoded data removed]",
      "text/plain": [
       "<Figure size 432x288 with 1 Axes>"
      ]
     },
     "metadata": {
      "needs_background": "light"
     },
     "output_type": "display_data"
    },
    {
     "data": {
      "image/png": "[encoded data removed]",
      "text/plain": [
       "<Figure size 432x288 with 1 Axes>"
      ]
     },
     "metadata": {
      "needs_background": "light"
     },
     "output_type": "display_data"
    },
    {
     "name": "stdout",
     "output_type": "stream",
     "text": [
      "Sorted by Diff % in descending order, the Average House Prices for London boroughs between 2001 Aug and 2021 Aug:\n"
     ]
    },
    {
     "data": {
      "text/html": [
       "<style type=\"text/css\">\n",
       "</style>\n",
       "<table id=\"T_b7bc3_\">\n",
       "  <thead>\n",
       "    <tr>\n",
       "      <th class=\"blank level0\" >&nbsp;</th>\n",
       "      <th class=\"col_heading level0 col0\" >Min</th>\n",
       "      <th class=\"col_heading level0 col1\" >Max</th>\n",
       "      <th class=\"col_heading level0 col2\" >Diff</th>\n",
       "      <th class=\"col_heading level0 col3\" >Diff % of Min</th>\n",
       "    </tr>\n",
       "    <tr>\n",
       "      <th class=\"index_name level0\" >borough</th>\n",
       "      <th class=\"blank col0\" >&nbsp;</th>\n",
       "      <th class=\"blank col1\" >&nbsp;</th>\n",
       "      <th class=\"blank col2\" >&nbsp;</th>\n",
       "      <th class=\"blank col3\" >&nbsp;</th>\n",
       "    </tr>\n",
       "  </thead>\n",
       "  <tbody>\n",
       "    <tr>\n",
       "      <th id=\"T_b7bc3_level0_row0\" class=\"row_heading level0 row0\" >Hackney</th>\n",
       "      <td id=\"T_b7bc3_row0_col0\" class=\"data row0 col0\" >$157,329</td>\n",
       "      <td id=\"T_b7bc3_row0_col1\" class=\"data row0 col1\" >$650,941</td>\n",
       "      <td id=\"T_b7bc3_row0_col2\" class=\"data row0 col2\" >$493,612</td>\n",
       "      <td id=\"T_b7bc3_row0_col3\" class=\"data row0 col3\" >314%</td>\n",
       "    </tr>\n",
       "    <tr>\n",
       "      <th id=\"T_b7bc3_level0_row1\" class=\"row_heading level0 row1\" >Waltham Forest</th>\n",
       "      <td id=\"T_b7bc3_row1_col0\" class=\"data row1 col0\" >$121,751</td>\n",
       "      <td id=\"T_b7bc3_row1_col1\" class=\"data row1 col1\" >$495,405</td>\n",
       "      <td id=\"T_b7bc3_row1_col2\" class=\"data row1 col2\" >$373,655</td>\n",
       "      <td id=\"T_b7bc3_row1_col3\" class=\"data row1 col3\" >307%</td>\n",
       "    </tr>\n",
       "    <tr>\n",
       "      <th id=\"T_b7bc3_level0_row2\" class=\"row_heading level0 row2\" >Barking & Dagenham</th>\n",
       "      <td id=\"T_b7bc3_row2_col0\" class=\"data row2 col0\" >$90,462</td>\n",
       "      <td id=\"T_b7bc3_row2_col1\" class=\"data row2 col1\" >$334,219</td>\n",
       "      <td id=\"T_b7bc3_row2_col2\" class=\"data row2 col2\" >$243,758</td>\n",
       "      <td id=\"T_b7bc3_row2_col3\" class=\"data row2 col3\" >269%</td>\n",
       "    </tr>\n",
       "    <tr>\n",
       "      <th id=\"T_b7bc3_level0_row3\" class=\"row_heading level0 row3\" >Westminster</th>\n",
       "      <td id=\"T_b7bc3_row3_col0\" class=\"data row3 col0\" >$302,516</td>\n",
       "      <td id=\"T_b7bc3_row3_col1\" class=\"data row3 col1\" >$1,117,408</td>\n",
       "      <td id=\"T_b7bc3_row3_col2\" class=\"data row3 col2\" >$814,892</td>\n",
       "      <td id=\"T_b7bc3_row3_col3\" class=\"data row3 col3\" >269%</td>\n",
       "    </tr>\n",
       "    <tr>\n",
       "      <th id=\"T_b7bc3_level0_row4\" class=\"row_heading level0 row4\" >Lewisham</th>\n",
       "      <td id=\"T_b7bc3_row4_col0\" class=\"data row4 col0\" >$124,313</td>\n",
       "      <td id=\"T_b7bc3_row4_col1\" class=\"data row4 col1\" >$447,827</td>\n",
       "      <td id=\"T_b7bc3_row4_col2\" class=\"data row4 col2\" >$323,514</td>\n",
       "      <td id=\"T_b7bc3_row4_col3\" class=\"data row4 col3\" >260%</td>\n",
       "    </tr>\n",
       "    <tr>\n",
       "      <th id=\"T_b7bc3_level0_row5\" class=\"row_heading level0 row5\" >Kensington & Chelsea</th>\n",
       "      <td id=\"T_b7bc3_row5_col0\" class=\"data row5 col0\" >$406,516</td>\n",
       "      <td id=\"T_b7bc3_row5_col1\" class=\"data row5 col1\" >$1,463,378</td>\n",
       "      <td id=\"T_b7bc3_row5_col2\" class=\"data row5 col2\" >$1,056,862</td>\n",
       "      <td id=\"T_b7bc3_row5_col3\" class=\"data row5 col3\" >260%</td>\n",
       "    </tr>\n",
       "    <tr>\n",
       "      <th id=\"T_b7bc3_level0_row6\" class=\"row_heading level0 row6\" >Haringey</th>\n",
       "      <td id=\"T_b7bc3_row6_col0\" class=\"data row6 col0\" >$169,860</td>\n",
       "      <td id=\"T_b7bc3_row6_col1\" class=\"data row6 col1\" >$609,713</td>\n",
       "      <td id=\"T_b7bc3_row6_col2\" class=\"data row6 col2\" >$439,853</td>\n",
       "      <td id=\"T_b7bc3_row6_col3\" class=\"data row6 col3\" >259%</td>\n",
       "    </tr>\n",
       "    <tr>\n",
       "      <th id=\"T_b7bc3_level0_row7\" class=\"row_heading level0 row7\" >Newham</th>\n",
       "      <td id=\"T_b7bc3_row7_col0\" class=\"data row7 col0\" >$109,276</td>\n",
       "      <td id=\"T_b7bc3_row7_col1\" class=\"data row7 col1\" >$389,866</td>\n",
       "      <td id=\"T_b7bc3_row7_col2\" class=\"data row7 col2\" >$280,591</td>\n",
       "      <td id=\"T_b7bc3_row7_col3\" class=\"data row7 col3\" >257%</td>\n",
       "    </tr>\n",
       "    <tr>\n",
       "      <th id=\"T_b7bc3_level0_row8\" class=\"row_heading level0 row8\" >Merton</th>\n",
       "      <td id=\"T_b7bc3_row8_col0\" class=\"data row8 col0\" >$171,618</td>\n",
       "      <td id=\"T_b7bc3_row8_col1\" class=\"data row8 col1\" >$579,958</td>\n",
       "      <td id=\"T_b7bc3_row8_col2\" class=\"data row8 col2\" >$408,340</td>\n",
       "      <td id=\"T_b7bc3_row8_col3\" class=\"data row8 col3\" >238%</td>\n",
       "    </tr>\n",
       "    <tr>\n",
       "      <th id=\"T_b7bc3_level0_row9\" class=\"row_heading level0 row9\" >Tower Hamlets</th>\n",
       "      <td id=\"T_b7bc3_row9_col0\" class=\"data row9 col0\" >$167,692</td>\n",
       "      <td id=\"T_b7bc3_row9_col1\" class=\"data row9 col1\" >$555,876</td>\n",
       "      <td id=\"T_b7bc3_row9_col2\" class=\"data row9 col2\" >$388,184</td>\n",
       "      <td id=\"T_b7bc3_row9_col3\" class=\"data row9 col3\" >231%</td>\n",
       "    </tr>\n",
       "    <tr>\n",
       "      <th id=\"T_b7bc3_level0_row10\" class=\"row_heading level0 row10\" >Camden</th>\n",
       "      <td id=\"T_b7bc3_row10_col0\" class=\"data row10 col0\" >$286,872</td>\n",
       "      <td id=\"T_b7bc3_row10_col1\" class=\"data row10 col1\" >$949,175</td>\n",
       "      <td id=\"T_b7bc3_row10_col2\" class=\"data row10 col2\" >$662,303</td>\n",
       "      <td id=\"T_b7bc3_row10_col3\" class=\"data row10 col3\" >231%</td>\n",
       "    </tr>\n",
       "    <tr>\n",
       "      <th id=\"T_b7bc3_level0_row11\" class=\"row_heading level0 row11\" >Greenwich</th>\n",
       "      <td id=\"T_b7bc3_row11_col0\" class=\"data row11 col0\" >$127,161</td>\n",
       "      <td id=\"T_b7bc3_row11_col1\" class=\"data row11 col1\" >$420,070</td>\n",
       "      <td id=\"T_b7bc3_row11_col2\" class=\"data row11 col2\" >$292,909</td>\n",
       "      <td id=\"T_b7bc3_row11_col3\" class=\"data row11 col3\" >230%</td>\n",
       "    </tr>\n",
       "    <tr>\n",
       "      <th id=\"T_b7bc3_level0_row12\" class=\"row_heading level0 row12\" >Southwark</th>\n",
       "      <td id=\"T_b7bc3_row12_col0\" class=\"data row12 col0\" >$165,832</td>\n",
       "      <td id=\"T_b7bc3_row12_col1\" class=\"data row12 col1\" >$544,901</td>\n",
       "      <td id=\"T_b7bc3_row12_col2\" class=\"data row12 col2\" >$379,069</td>\n",
       "      <td id=\"T_b7bc3_row12_col3\" class=\"data row12 col3\" >229%</td>\n",
       "    </tr>\n",
       "    <tr>\n",
       "      <th id=\"T_b7bc3_level0_row13\" class=\"row_heading level0 row13\" >Lambeth</th>\n",
       "      <td id=\"T_b7bc3_row13_col0\" class=\"data row13 col0\" >$167,426</td>\n",
       "      <td id=\"T_b7bc3_row13_col1\" class=\"data row13 col1\" >$546,148</td>\n",
       "      <td id=\"T_b7bc3_row13_col2\" class=\"data row13 col2\" >$378,723</td>\n",
       "      <td id=\"T_b7bc3_row13_col3\" class=\"data row13 col3\" >226%</td>\n",
       "    </tr>\n",
       "    <tr>\n",
       "      <th id=\"T_b7bc3_level0_row14\" class=\"row_heading level0 row14\" >Brent</th>\n",
       "      <td id=\"T_b7bc3_row14_col0\" class=\"data row14 col0\" >$160,832</td>\n",
       "      <td id=\"T_b7bc3_row14_col1\" class=\"data row14 col1\" >$522,239</td>\n",
       "      <td id=\"T_b7bc3_row14_col2\" class=\"data row14 col2\" >$361,407</td>\n",
       "      <td id=\"T_b7bc3_row14_col3\" class=\"data row14 col3\" >225%</td>\n",
       "    </tr>\n",
       "    <tr>\n",
       "      <th id=\"T_b7bc3_level0_row15\" class=\"row_heading level0 row15\" >Enfield</th>\n",
       "      <td id=\"T_b7bc3_row15_col0\" class=\"data row15 col0\" >$139,076</td>\n",
       "      <td id=\"T_b7bc3_row15_col1\" class=\"data row15 col1\" >$445,555</td>\n",
       "      <td id=\"T_b7bc3_row15_col2\" class=\"data row15 col2\" >$306,479</td>\n",
       "      <td id=\"T_b7bc3_row15_col3\" class=\"data row15 col3\" >220%</td>\n",
       "    </tr>\n",
       "    <tr>\n",
       "      <th id=\"T_b7bc3_level0_row16\" class=\"row_heading level0 row16\" >Hammersmith & Fulham</th>\n",
       "      <td id=\"T_b7bc3_row16_col0\" class=\"data row16 col0\" >$275,412</td>\n",
       "      <td id=\"T_b7bc3_row16_col1\" class=\"data row16 col1\" >$881,616</td>\n",
       "      <td id=\"T_b7bc3_row16_col2\" class=\"data row16 col2\" >$606,205</td>\n",
       "      <td id=\"T_b7bc3_row16_col3\" class=\"data row16 col3\" >220%</td>\n",
       "    </tr>\n",
       "    <tr>\n",
       "      <th id=\"T_b7bc3_level0_row17\" class=\"row_heading level0 row17\" >Redbridge</th>\n",
       "      <td id=\"T_b7bc3_row17_col0\" class=\"data row17 col0\" >$144,220</td>\n",
       "      <td id=\"T_b7bc3_row17_col1\" class=\"data row17 col1\" >$457,883</td>\n",
       "      <td id=\"T_b7bc3_row17_col2\" class=\"data row17 col2\" >$313,663</td>\n",
       "      <td id=\"T_b7bc3_row17_col3\" class=\"data row17 col3\" >217%</td>\n",
       "    </tr>\n",
       "    <tr>\n",
       "      <th id=\"T_b7bc3_level0_row18\" class=\"row_heading level0 row18\" >Havering</th>\n",
       "      <td id=\"T_b7bc3_row18_col0\" class=\"data row18 col0\" >$126,651</td>\n",
       "      <td id=\"T_b7bc3_row18_col1\" class=\"data row18 col1\" >$400,178</td>\n",
       "      <td id=\"T_b7bc3_row18_col2\" class=\"data row18 col2\" >$273,528</td>\n",
       "      <td id=\"T_b7bc3_row18_col3\" class=\"data row18 col3\" >216%</td>\n",
       "    </tr>\n",
       "    <tr>\n",
       "      <th id=\"T_b7bc3_level0_row19\" class=\"row_heading level0 row19\" >Islington</th>\n",
       "      <td id=\"T_b7bc3_row19_col0\" class=\"data row19 col0\" >$224,757</td>\n",
       "      <td id=\"T_b7bc3_row19_col1\" class=\"data row19 col1\" >$705,047</td>\n",
       "      <td id=\"T_b7bc3_row19_col2\" class=\"data row19 col2\" >$480,289</td>\n",
       "      <td id=\"T_b7bc3_row19_col3\" class=\"data row19 col3\" >214%</td>\n",
       "    </tr>\n",
       "    <tr>\n",
       "      <th id=\"T_b7bc3_level0_row20\" class=\"row_heading level0 row20\" >Bexley</th>\n",
       "      <td id=\"T_b7bc3_row20_col0\" class=\"data row20 col0\" >$119,312</td>\n",
       "      <td id=\"T_b7bc3_row20_col1\" class=\"data row20 col1\" >$372,338</td>\n",
       "      <td id=\"T_b7bc3_row20_col2\" class=\"data row20 col2\" >$253,026</td>\n",
       "      <td id=\"T_b7bc3_row20_col3\" class=\"data row20 col3\" >212%</td>\n",
       "    </tr>\n",
       "    <tr>\n",
       "      <th id=\"T_b7bc3_level0_row21\" class=\"row_heading level0 row21\" >Wandsworth</th>\n",
       "      <td id=\"T_b7bc3_row21_col0\" class=\"data row21 col0\" >$209,549</td>\n",
       "      <td id=\"T_b7bc3_row21_col1\" class=\"data row21 col1\" >$637,841</td>\n",
       "      <td id=\"T_b7bc3_row21_col2\" class=\"data row21 col2\" >$428,291</td>\n",
       "      <td id=\"T_b7bc3_row21_col3\" class=\"data row21 col3\" >204%</td>\n",
       "    </tr>\n",
       "    <tr>\n",
       "      <th id=\"T_b7bc3_level0_row22\" class=\"row_heading level0 row22\" >Hillingdon</th>\n",
       "      <td id=\"T_b7bc3_row22_col0\" class=\"data row22 col0\" >$148,787</td>\n",
       "      <td id=\"T_b7bc3_row22_col1\" class=\"data row22 col1\" >$447,558</td>\n",
       "      <td id=\"T_b7bc3_row22_col2\" class=\"data row22 col2\" >$298,770</td>\n",
       "      <td id=\"T_b7bc3_row22_col3\" class=\"data row22 col3\" >201%</td>\n",
       "    </tr>\n",
       "    <tr>\n",
       "      <th id=\"T_b7bc3_level0_row23\" class=\"row_heading level0 row23\" >Ealing</th>\n",
       "      <td id=\"T_b7bc3_row23_col0\" class=\"data row23 col0\" >$173,686</td>\n",
       "      <td id=\"T_b7bc3_row23_col1\" class=\"data row23 col1\" >$516,709</td>\n",
       "      <td id=\"T_b7bc3_row23_col2\" class=\"data row23 col2\" >$343,023</td>\n",
       "      <td id=\"T_b7bc3_row23_col3\" class=\"data row23 col3\" >197%</td>\n",
       "    </tr>\n",
       "    <tr>\n",
       "      <th id=\"T_b7bc3_level0_row24\" class=\"row_heading level0 row24\" >Barnet</th>\n",
       "      <td id=\"T_b7bc3_row24_col0\" class=\"data row24 col0\" >$187,691</td>\n",
       "      <td id=\"T_b7bc3_row24_col1\" class=\"data row24 col1\" >$552,793</td>\n",
       "      <td id=\"T_b7bc3_row24_col2\" class=\"data row24 col2\" >$365,102</td>\n",
       "      <td id=\"T_b7bc3_row24_col3\" class=\"data row24 col3\" >195%</td>\n",
       "    </tr>\n",
       "    <tr>\n",
       "      <th id=\"T_b7bc3_level0_row25\" class=\"row_heading level0 row25\" >Richmond upon Thames</th>\n",
       "      <td id=\"T_b7bc3_row25_col0\" class=\"data row25 col0\" >$246,813</td>\n",
       "      <td id=\"T_b7bc3_row25_col1\" class=\"data row25 col1\" >$721,808</td>\n",
       "      <td id=\"T_b7bc3_row25_col2\" class=\"data row25 col2\" >$474,995</td>\n",
       "      <td id=\"T_b7bc3_row25_col3\" class=\"data row25 col3\" >192%</td>\n",
       "    </tr>\n",
       "    <tr>\n",
       "      <th id=\"T_b7bc3_level0_row26\" class=\"row_heading level0 row26\" >Hounslow</th>\n",
       "      <td id=\"T_b7bc3_row26_col0\" class=\"data row26 col0\" >$157,799</td>\n",
       "      <td id=\"T_b7bc3_row26_col1\" class=\"data row26 col1\" >$461,281</td>\n",
       "      <td id=\"T_b7bc3_row26_col2\" class=\"data row26 col2\" >$303,482</td>\n",
       "      <td id=\"T_b7bc3_row26_col3\" class=\"data row26 col3\" >192%</td>\n",
       "    </tr>\n",
       "    <tr>\n",
       "      <th id=\"T_b7bc3_level0_row27\" class=\"row_heading level0 row27\" >Kingston upon Thames</th>\n",
       "      <td id=\"T_b7bc3_row27_col0\" class=\"data row27 col0\" >$182,159</td>\n",
       "      <td id=\"T_b7bc3_row27_col1\" class=\"data row27 col1\" >$530,476</td>\n",
       "      <td id=\"T_b7bc3_row27_col2\" class=\"data row27 col2\" >$348,317</td>\n",
       "      <td id=\"T_b7bc3_row27_col3\" class=\"data row27 col3\" >191%</td>\n",
       "    </tr>\n",
       "    <tr>\n",
       "      <th id=\"T_b7bc3_level0_row28\" class=\"row_heading level0 row28\" >Croydon</th>\n",
       "      <td id=\"T_b7bc3_row28_col0\" class=\"data row28 col0\" >$135,558</td>\n",
       "      <td id=\"T_b7bc3_row28_col1\" class=\"data row28 col1\" >$391,734</td>\n",
       "      <td id=\"T_b7bc3_row28_col2\" class=\"data row28 col2\" >$256,176</td>\n",
       "      <td id=\"T_b7bc3_row28_col3\" class=\"data row28 col3\" >189%</td>\n",
       "    </tr>\n",
       "    <tr>\n",
       "      <th id=\"T_b7bc3_level0_row29\" class=\"row_heading level0 row29\" >Sutton</th>\n",
       "      <td id=\"T_b7bc3_row29_col0\" class=\"data row29 col0\" >$139,329</td>\n",
       "      <td id=\"T_b7bc3_row29_col1\" class=\"data row29 col1\" >$402,318</td>\n",
       "      <td id=\"T_b7bc3_row29_col2\" class=\"data row29 col2\" >$262,989</td>\n",
       "      <td id=\"T_b7bc3_row29_col3\" class=\"data row29 col3\" >189%</td>\n",
       "    </tr>\n",
       "    <tr>\n",
       "      <th id=\"T_b7bc3_level0_row30\" class=\"row_heading level0 row30\" >Bromley</th>\n",
       "      <td id=\"T_b7bc3_row30_col0\" class=\"data row30 col0\" >$164,849</td>\n",
       "      <td id=\"T_b7bc3_row30_col1\" class=\"data row30 col1\" >$475,568</td>\n",
       "      <td id=\"T_b7bc3_row30_col2\" class=\"data row30 col2\" >$310,720</td>\n",
       "      <td id=\"T_b7bc3_row30_col3\" class=\"data row30 col3\" >188%</td>\n",
       "    </tr>\n",
       "    <tr>\n",
       "      <th id=\"T_b7bc3_level0_row31\" class=\"row_heading level0 row31\" >Harrow</th>\n",
       "      <td id=\"T_b7bc3_row31_col0\" class=\"data row31 col0\" >$175,232</td>\n",
       "      <td id=\"T_b7bc3_row31_col1\" class=\"data row31 col1\" >$492,186</td>\n",
       "      <td id=\"T_b7bc3_row31_col2\" class=\"data row31 col2\" >$316,955</td>\n",
       "      <td id=\"T_b7bc3_row31_col3\" class=\"data row31 col3\" >181%</td>\n",
       "    </tr>\n",
       "  </tbody>\n",
       "</table>\n"
      ],
      "text/plain": [
       "<pandas.io.formats.style.Styler at 0x1b38c11dcd0>"
      ]
     },
     "execution_count": 10,
     "metadata": {},
     "output_type": "execute_result"
    }
   ],
   "source": [
    "# define custom function to calculate increase in average house price\n",
    "def minmaxdiff(x):\n",
    "    result = max(x)-min(x)\n",
    "    return result\n",
    "\n",
    "# define custom function to calculate increase in average house price as % of min\n",
    "def minmaxdiff_pct(x):\n",
    "    result = ((max(x)-min(x)) / min(x))*100\n",
    "    return result\n",
    "\n",
    "# created a pivot table to gather summary statistics on house prices\n",
    "prop_pivot = pd.pivot_table(prop_clean, index = \"borough\", values = \"avg_price\", aggfunc = [min,max,minmaxdiff,minmaxdiff_pct])\n",
    "\n",
    "# sorted the pivot table\n",
    "prop_pivot_sorted = prop_pivot.sort_values(by = ('minmaxdiff','avg_price'), ascending = False)\n",
    "\n",
    "# combined multiple layers of columns into 1 layer\n",
    "prop_pivot_sorted.columns = [\"_\".join((i,j)) for i,j in prop_pivot_sorted.columns]\n",
    "\n",
    "# renamed columns for easy reading\n",
    "prop_pivot_sorted.columns = ['Min', 'Max', 'Diff', 'Diff % of Min']\n",
    "prop_pivot_sorted_pct = prop_pivot_sorted.sort_values(by = \"Diff % of Min\", ascending = False)\n",
    "\n",
    "# create a visual plot to showcase main summary statistic\n",
    "prop_pivot_sorted_plot = prop_pivot_sorted.plot(kind = \"bar\", y = \"Diff\", ylabel = \"$ Increase in Average House Price\", xlabel = \"Boroughs of London\", title = \"In terms of $, Boroughs of London vs Increase in Average House Price between 2001 Aug and 2021 Aug\", legend = False)\n",
    "prop_pivot_sorted_pct_plot = prop_pivot_sorted_pct.plot(kind = \"bar\", y = \"Diff % of Min\", ylabel = \"% Increase in Average House Price\", xlabel = \"Boroughs of London\", title = \"In terms of %, Boroughs of London vs Increase in Average House Price between 2001 Aug and 2021 Aug\", legend = False)\n",
    "\n",
    "plt.show()\n",
    "\n",
    "# create a styled pivot table\n",
    "print(\"Sorted by Diff % in descending order, the Average House Prices for London boroughs between 2001 Aug and 2021 Aug:\")\n",
    "#prop_pivot_2.style.format({('minmaxdiff','avg_price'):'${0:,.0f}', ('minmaxdiff_pct','avg_price'):'{0:,.0f}%' ,('min','avg_price'):'${0:,.0f}', ('max','avg_price'):'${0:,.0f}'})\n",
    "prop_pivot_sorted_pct.style.format({'Min':'${0:,.0f}', 'Diff % of Min':'{0:,.0f}%' ,'Max':'${0:,.0f}', 'Diff':'${0:,.0f}'})\n"
   ]
  },
  {
   "cell_type": "markdown",
   "metadata": {
    "colab_type": "text",
    "id": "2knuTxAEqoJ4"
   },
   "source": [
    "**3. Modeling**\n",
    "\n",
    "Consider creating a function that will calculate a ratio of house prices, comparing the price of a house in 2018 to the price in 1998.\n",
    "\n",
    "Consider calling this function create_price_ratio.\n",
    "\n",
    "You'd want this function to:\n",
    "1. Take a filter of dfg, specifically where this filter constrains the London_Borough, as an argument. For example, one admissible argument should be: dfg[dfg['London_Borough']=='Camden'].\n",
    "2. Get the Average Price for that Borough, for the years 1998 and 2018.\n",
    "4. Calculate the ratio of the Average Price for 1998 divided by the Average Price for 2018.\n",
    "5. Return that ratio.\n",
    "\n",
    "Once you've written this function, you ultimately want to use it to iterate through all the unique London_Boroughs and work out the ratio capturing the difference of house prices between 1998 and 2018.\n",
    "\n",
    "Bear in mind: you don't have to write a function like this if you don't want to. If you can solve the brief otherwise, then great! \n",
    "\n",
    "***Hint***: This section should test the skills you acquired in:\n",
    "- Python Data Science Toolbox - Part One, all modules"
   ]
  },
  {
   "cell_type": "code",
   "execution_count": 15,
   "metadata": {
    "colab": {},
    "colab_type": "code",
    "id": "cKTyr437UgDa"
   },
   "outputs": [
    {
     "data": {
      "text/plain": [
       "[[['Hackney', 'Kensington & Chelsea'], array([0.31096275, 0.24201123])]]"
      ]
     },
     "execution_count": 15,
     "metadata": {},
     "output_type": "execute_result"
    }
   ],
   "source": [
    "def create_price_ratio(borough, period1, period2):\n",
    "    \"\"\"this function takes in 3 arguments: the borough, period1, period2 and returns the price ratio\"\"\"\n",
    "    tablex = []\n",
    "    \n",
    "    fil1 = prop_clean['date'].isin(period1)\n",
    "    fil2 = prop_clean['date'].isin(period2)\n",
    "    fil3 = prop_clean['borough'].isin(borough)\n",
    "    \n",
    "    p1 = prop_clean[fil1 & fil3]['avg_price'].values\n",
    "    p2 = prop_clean[fil2 & fil3]['avg_price'].values\n",
    "    \n",
    "    ratio = p1 / p2\n",
    "    tablex.append([borough,ratio])        \n",
    "    return tablex\n",
    "\n",
    "#    for i in borough :\n",
    "#        fil1 = prop_clean['date'].isin(period)\n",
    "#        ratio_list.append(prop_clean['borough'])\n",
    "#\n",
    "#    return ratio_list\n",
    "#prop_clean['borough'] == i\n",
    "\n",
    "create_price_ratio([\"Hackney\", \"Kensington & Chelsea\"], [\"2001-08\"], [\"2021-08\"])"
   ]
  },
  {
   "cell_type": "markdown",
   "metadata": {
    "colab_type": "text",
    "id": "NzYUI7FxJpgv"
   },
   "source": [
    "### 4. Conclusion\n",
    "What can you conclude? Type out your conclusion below. \n",
    "\n",
    "Look back at your notebook. Think about how you might summarize what you have done, and prepare a quick presentation on it to your mentor at your next meeting. \n",
    "\n",
    "We hope you enjoyed this practical project. It should have consolidated your data hygiene and pandas skills by looking at a real-world problem involving just the kind of dataset you might encounter as a budding data scientist. Congratulations, and looking forward to seeing you at the next step in the course! "
   ]
  },
  {
   "cell_type": "markdown",
   "metadata": {},
   "source": [
    "Which boroughs of London have seen the greatest increase in housing prices, on average, over the last two decades?\n",
    "\n",
    "In terms of % increase, the borough of Hackney has seen the greatest increase in average housing prices, with an increase of 314 percent from a minimum of 157k to a maximum of 651k dollars.\n",
    "\n",
    "In terms of $ increase, the borough of Kensington & Chelsea has seen the greatest increase in average housing prices, with an increase of 260 percent from a minimum of 407k to a maximum of 1,463k dollars.\n"
   ]
  },
  {
   "cell_type": "code",
   "execution_count": null,
   "metadata": {},
   "outputs": [],
   "source": []
  }
 ],
 "metadata": {
  "colab": {
   "collapsed_sections": [],
   "name": "Springboard Data Science Career Track Unit 4 Challenge - Tier 3 Complete .ipynb",
   "provenance": []
  },
  "kernelspec": {
   "display_name": "Python 3 (ipykernel)",
   "language": "python",
   "name": "python3"
  },
  "language_info": {
   "codemirror_mode": {
    "name": "ipython",
    "version": 3
   },
   "file_extension": ".py",
   "mimetype": "text/x-python",
   "name": "python",
   "nbconvert_exporter": "python",
   "pygments_lexer": "ipython3",
   "version": "3.9.7"
  }
 },
 "nbformat": 4,
 "nbformat_minor": 1
}
